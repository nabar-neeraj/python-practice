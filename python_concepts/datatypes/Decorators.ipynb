{
 "cells": [
  {
   "cell_type": "code",
   "execution_count": 1,
   "metadata": {
    "collapsed": true
   },
   "outputs": [],
   "source": [
    "import time"
   ]
  },
  {
   "cell_type": "markdown",
   "metadata": {},
   "source": [
    "## Decorators\n",
    "Decorators provide a way to add functionality to a Python callable object  \n",
    "Form a decorator as:\n",
    "```python\n",
    "def decorator_func(func_to_decorate):\n",
    "    def wrapper_func(*args,*kwargs):\n",
    "        # Do something here\n",
    "        result = func_to_decorate(*args,**kwargs)\n",
    "        # Optionally do something here\n",
    "        return result\n",
    "    return wrapper\n",
    "```"
   ]
  },
  {
   "cell_type": "code",
   "execution_count": 2,
   "metadata": {
    "collapsed": false
   },
   "outputs": [],
   "source": [
    "def decorates(func_to_decorate):\n",
    "    def wraps(*args):\n",
    "        print args\n",
    "        return func_to_decorate(*args)\n",
    "    return wraps"
   ]
  },
  {
   "cell_type": "code",
   "execution_count": 3,
   "metadata": {
    "collapsed": false
   },
   "outputs": [],
   "source": [
    "def about_func(func_to_decorate):\n",
    "    def wraps(*args,**kwargs):\n",
    "#         print \"{0:*^40s}\".format(func_to_decorate.__name__)\n",
    "        start_time = time.time()\n",
    "        result = func_to_decorate(*args,**kwargs)\n",
    "        print \"Time taken for {0}() {1:>15f} seconds\".format(func_to_decorate.__name__,time.time()-start_time)\n",
    "        return result\n",
    "    return wraps"
   ]
  },
  {
   "cell_type": "code",
   "execution_count": 4,
   "metadata": {
    "collapsed": false
   },
   "outputs": [],
   "source": [
    "@about_func\n",
    "def get_sum(a, b=0):\n",
    "    return a + b"
   ]
  },
  {
   "cell_type": "code",
   "execution_count": 5,
   "metadata": {
    "collapsed": false
   },
   "outputs": [
    {
     "name": "stdout",
     "output_type": "stream",
     "text": [
      "Time taken for get_sum()        0.000003 seconds\n",
      "10\n"
     ]
    }
   ],
   "source": [
    "print get_sum(10)"
   ]
  }
 ],
 "metadata": {
  "kernelspec": {
   "display_name": "Python 2",
   "language": "python",
   "name": "python2"
  },
  "language_info": {
   "codemirror_mode": {
    "name": "ipython",
    "version": 2
   },
   "file_extension": ".py",
   "mimetype": "text/x-python",
   "name": "python",
   "nbconvert_exporter": "python",
   "pygments_lexer": "ipython2",
   "version": "2.7.6"
  }
 },
 "nbformat": 4,
 "nbformat_minor": 0
}

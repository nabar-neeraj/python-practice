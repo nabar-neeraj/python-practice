{
 "cells": [
  {
   "cell_type": "markdown",
   "metadata": {},
   "source": [
    "# Python Lists\n"
   ]
  },
  {
   "cell_type": "code",
   "execution_count": 47,
   "metadata": {
    "collapsed": true
   },
   "outputs": [],
   "source": [
    "a = [1,2,3,4,5]"
   ]
  },
  {
   "cell_type": "code",
   "execution_count": 48,
   "metadata": {
    "collapsed": false
   },
   "outputs": [
    {
     "name": "stdout",
     "output_type": "stream",
     "text": [
      "[1, 2, 3, 4, 5]\n"
     ]
    }
   ],
   "source": [
    "print a"
   ]
  },
  {
   "cell_type": "code",
   "execution_count": 49,
   "metadata": {
    "collapsed": false
   },
   "outputs": [
    {
     "name": "stdout",
     "output_type": "stream",
     "text": [
      "[1, 2, 3, 4, 5, 6]\n"
     ]
    }
   ],
   "source": [
    "# print a+1 # ERROR!!! TypeError: can only concatenate list (not \"int\") to list\n",
    "\n",
    "a = a + [6] # or a.append(6)\n",
    "print a"
   ]
  },
  {
   "cell_type": "code",
   "execution_count": 50,
   "metadata": {
    "collapsed": false
   },
   "outputs": [
    {
     "name": "stdout",
     "output_type": "stream",
     "text": [
      "[1, 2, 4, 5, 6]\n"
     ]
    }
   ],
   "source": [
    "while 3 in a:\n",
    "    a.remove(3) # Inplace removal\n",
    "print a"
   ]
  },
  {
   "cell_type": "code",
   "execution_count": 51,
   "metadata": {
    "collapsed": false
   },
   "outputs": [
    {
     "name": "stdout",
     "output_type": "stream",
     "text": [
      "[1, 2, 4, 5, 6, 3]\n"
     ]
    }
   ],
   "source": [
    "a.append(3) # Inplace append\n",
    "print a"
   ]
  },
  {
   "cell_type": "code",
   "execution_count": 21,
   "metadata": {
    "collapsed": false
   },
   "outputs": [
    {
     "name": "stdout",
     "output_type": "stream",
     "text": [
      "Popped value from a: 6\n",
      "Now a =  [1, 2, 4, 5]\n"
     ]
    }
   ],
   "source": [
    "print \"Popped value from a:\", a.pop() # pop() will remove the rightmost (most recent) element and return it\n",
    "print \"Now a = \",a"
   ]
  },
  {
   "cell_type": "code",
   "execution_count": 24,
   "metadata": {
    "collapsed": false
   },
   "outputs": [
    {
     "name": "stdout",
     "output_type": "stream",
     "text": [
      "Pushing value 25 into a\n",
      "Now a =  [1, 2, 4, 5, 25, 25]\n"
     ]
    }
   ],
   "source": [
    "print \"Pushing value 25 into a\"\n",
    "a.append(25)             # .append() is the same as a push() operation\n",
    "print \"Now a = \",a"
   ]
  },
  {
   "cell_type": "code",
   "execution_count": 26,
   "metadata": {
    "collapsed": false
   },
   "outputs": [
    {
     "data": {
      "text/plain": [
       "2"
      ]
     },
     "execution_count": 26,
     "metadata": {},
     "output_type": "execute_result"
    }
   ],
   "source": [
    "a.count(25)"
   ]
  },
  {
   "cell_type": "code",
   "execution_count": 31,
   "metadata": {
    "collapsed": false
   },
   "outputs": [
    {
     "name": "stdout",
     "output_type": "stream",
     "text": [
      "[1, 2, 4, 5, 25]\n"
     ]
    }
   ],
   "source": [
    "def dedup_list(a_list):\n",
    "    out_list = []\n",
    "    for i in a_list:\n",
    "        if i not in out_list:\n",
    "            out_list.append(i)\n",
    "    return out_list\n",
    "\n",
    "print dedup_list(a)"
   ]
  },
  {
   "cell_type": "code",
   "execution_count": 30,
   "metadata": {
    "collapsed": false
   },
   "outputs": [
    {
     "name": "stdout",
     "output_type": "stream",
     "text": [
      "[1, 2, 4, 5, 25]\n"
     ]
    }
   ],
   "source": [
    "deduped = list(set(a))\n",
    "print deduped"
   ]
  },
  {
   "cell_type": "markdown",
   "metadata": {},
   "source": [
    "## Slicing and Copying"
   ]
  },
  {
   "cell_type": "code",
   "execution_count": 45,
   "metadata": {
    "collapsed": false
   },
   "outputs": [
    {
     "name": "stdout",
     "output_type": "stream",
     "text": [
      "Original list a:\t[1, 2, 3, 4, 5]\n",
      "Complete slice of a:\t[1, 2, 3, 4, 5]\n",
      "First 3 elements in a:\t[1, 2, 3]\n",
      "First 4 elements alternate:\t[1, 3]\n",
      "Reverse list :\t[5, 4, 3, 2, 1]\n"
     ]
    }
   ],
   "source": [
    "a = [1,2,3,4,5]\n",
    "# Slices are defined by list_to_slice[start_index:end_index:step]\n",
    "# slice is given from start_index(included) till end_index(excluded)\n",
    "\n",
    "print \"Original list a:\\t%s\" % a\n",
    "print \"Complete slice of a:\\t%s\" % a[:]\n",
    "print \"First 3 elements in a:\\t%s\" % a[:3]\n",
    "print \"First 4 elements alternate:\\t%s\" % a[:3:2]\n",
    "print \"Reverse list :\\t%s\" % a[-1::-1]"
   ]
  },
  {
   "cell_type": "code",
   "execution_count": null,
   "metadata": {
    "collapsed": true
   },
   "outputs": [],
   "source": []
  },
  {
   "cell_type": "markdown",
   "metadata": {},
   "source": [
    "## Map, Filter and Reduce"
   ]
  },
  {
   "cell_type": "code",
   "execution_count": 33,
   "metadata": {
    "collapsed": false
   },
   "outputs": [],
   "source": [
    "temp_celsius = [0,10,20,30,40,50,60,70,80,90,100]"
   ]
  },
  {
   "cell_type": "code",
   "execution_count": 36,
   "metadata": {
    "collapsed": false
   },
   "outputs": [
    {
     "name": "stdout",
     "output_type": "stream",
     "text": [
      "[32.0, 50.0, 68.0, 86.0, 104.0, 122.0, 140.0, 158.0, 176.0, 194.0, 212.0]\n"
     ]
    }
   ],
   "source": [
    "# Map example\n",
    "# Convert the celsius values to fahrenheit\n",
    "temp_fahr = map(lambda x: 1.8*x + 32, temp_celsius)\n",
    "print temp_fahr"
   ]
  },
  {
   "cell_type": "code",
   "execution_count": 37,
   "metadata": {
    "collapsed": false
   },
   "outputs": [
    {
     "name": "stdout",
     "output_type": "stream",
     "text": [
      "[32.0, 68.0, 104.0, 140.0, 176.0, 212.0]\n"
     ]
    }
   ],
   "source": [
    "# Filter example\n",
    "# show only fahrenheit values divisible by 4\n",
    "print filter(lambda x: x%4==0, temp_fahr)"
   ]
  },
  {
   "cell_type": "code",
   "execution_count": 40,
   "metadata": {
    "collapsed": false
   },
   "outputs": [
    {
     "name": "stdout",
     "output_type": "stream",
     "text": [
      "[1, 2, 3, 4, 5, 6, 7, 8, 9]\n",
      "362880\n",
      "-43\n"
     ]
    }
   ],
   "source": [
    "# Reduce\n",
    "# Accumulate product of all numbers\n",
    "a = range(1,10)\n",
    "print a\n",
    "print reduce(lambda x,y: x*y, a)"
   ]
  },
  {
   "cell_type": "code",
   "execution_count": null,
   "metadata": {
    "collapsed": true
   },
   "outputs": [],
   "source": []
  }
 ],
 "metadata": {
  "kernelspec": {
   "display_name": "Python 2",
   "language": "python",
   "name": "python2"
  },
  "language_info": {
   "codemirror_mode": {
    "name": "ipython",
    "version": 2
   },
   "file_extension": ".py",
   "mimetype": "text/x-python",
   "name": "python",
   "nbconvert_exporter": "python",
   "pygments_lexer": "ipython2",
   "version": "2.7.6"
  }
 },
 "nbformat": 4,
 "nbformat_minor": 0
}
